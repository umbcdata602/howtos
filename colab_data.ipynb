{
  "nbformat": 4,
  "nbformat_minor": 0,
  "metadata": {
    "colab": {
      "name": "colab_data.ipynb",
      "provenance": [],
      "toc_visible": true
    },
    "kernelspec": {
      "name": "python3",
      "display_name": "Python 3"
    }
  },
  "cells": [
    {
      "cell_type": "markdown",
      "metadata": {
        "id": "6THRHTSMx_9F",
        "colab_type": "text"
      },
      "source": [
        "# Loading Google Drive files into Colab\n",
        "\n",
        "Reference: [PyDrive method](https://colab.research.google.com/notebooks/io.ipynb#scrollTo=7taylj9wpsA2) -- Colab docs"
      ]
    },
    {
      "cell_type": "markdown",
      "metadata": {
        "id": "tfWTtpx1Gr1V",
        "colab_type": "text"
      },
      "source": [
        "### Approach\n",
        "\n",
        "The approach below will download a file from your Google Drive to Colab.\n",
        "If you share the file with someone, they can use the same code to\n",
        "download your file from their Google Drive into Colab.\n",
        "\n",
        "### File ID\n",
        "\n",
        "The simple way to obtain a file ID is by hand.  Go to your Google Drive\n",
        "online (https://drive.google.com) and navigate to the file.\n",
        "Right click on the file to \"Get shareable link\".\n",
        "You can paste the link in a browser, if you like.   Here's an example:\n",
        "\n",
        "    https://drive.google.com/open?id=1YPBquutQnA_V-tICLsUp15qLkySUj8v8\n",
        "\n",
        "The string of random characters following \"id=\" in the URL is the file ID.\n",
        "Every file in Google Drive has a unique ID, and you'll need the ID for each\n",
        "file you want to load into Colab.  If you want someone else to be able to\n",
        "load your file into Colab, then you must share the file with them."
      ]
    },
    {
      "cell_type": "code",
      "metadata": {
        "id": "5MYHFh0Xnlt-",
        "colab_type": "code",
        "colab": {}
      },
      "source": [
        "from pydrive.auth import GoogleAuth\n",
        "from pydrive.drive import GoogleDrive\n",
        "from google.colab import auth\n",
        "from oauth2client.client import GoogleCredentials"
      ],
      "execution_count": 0,
      "outputs": []
    },
    {
      "cell_type": "code",
      "metadata": {
        "id": "5dk7JSHEybYo",
        "colab_type": "code",
        "colab": {}
      },
      "source": [
        "# Authenticate and create a PyDrive client\n",
        "# WARNING: This provides Colab with write access to your entire Google Drive\n",
        "auth.authenticate_user()\n",
        "gauth = GoogleAuth()\n",
        "gauth.credentials = GoogleCredentials.get_application_default()\n",
        "drive = GoogleDrive(gauth)"
      ],
      "execution_count": 0,
      "outputs": []
    },
    {
      "cell_type": "code",
      "metadata": {
        "id": "26L6JbHyzPI9",
        "colab_type": "code",
        "colab": {
          "base_uri": "https://localhost:8080/",
          "height": 34
        },
        "outputId": "9146e0db-bf53-4689-8fd2-c3bf20c04b3e"
      },
      "source": [
        "# Upload a sample text file to Google Drive and get its ID\n",
        "# This step is not necessary if you already have data in your Google Drive\n",
        "uploaded = drive.CreateFile({'title': 'Sample upload.txt'})\n",
        "uploaded.SetContentString('Sample upload file content')\n",
        "uploaded.Upload()\n",
        "print('Uploaded file with ID {}'.format(uploaded.get('id')))"
      ],
      "execution_count": 3,
      "outputs": [
        {
          "output_type": "stream",
          "text": [
            "Uploaded file with ID 142pfeT-Cg0AnduavFn2GQP-1yXXbTEg2\n"
          ],
          "name": "stdout"
        }
      ]
    },
    {
      "cell_type": "code",
      "metadata": {
        "id": "H3Zeyal8zAPT",
        "colab_type": "code",
        "colab": {
          "base_uri": "https://localhost:8080/",
          "height": 34
        },
        "outputId": "88623962-2475-4167-e078-76cc453e0849"
      },
      "source": [
        "# Download a file to Colab using the file's ID\n",
        "# This example uses the ID obtained in the previous step\n",
        "downloaded = drive.CreateFile({'id': uploaded.get('id')})\n",
        "print('Downloaded content \"{}\"'.format(downloaded.GetContentString()))"
      ],
      "execution_count": 4,
      "outputs": [
        {
          "output_type": "stream",
          "text": [
            "Downloaded content \"Sample upload file content\"\n"
          ],
          "name": "stdout"
        }
      ]
    },
    {
      "cell_type": "code",
      "metadata": {
        "id": "00SwkKpa1s1y",
        "colab_type": "code",
        "colab": {
          "base_uri": "https://localhost:8080/",
          "height": 68
        },
        "outputId": "a33aa30a-21e1-4356-e0fc-d66c3cee1693"
      },
      "source": [
        "# Download a file to Colab using it's ID\n",
        "# This example uses the ID that you need to obtain yourself.\n",
        "id = \"1YPBquutQnA_V-tICLsUp15qLkySUj8v8\"\n",
        "downloaded = drive.CreateFile({'id': id})\n",
        "print(downloaded.GetContentString())"
      ],
      "execution_count": 5,
      "outputs": [
        {
          "output_type": "stream",
          "text": [
            "A,B,C\n",
            "1,2,3\n",
            "4,5,6\n"
          ],
          "name": "stdout"
        }
      ]
    },
    {
      "cell_type": "code",
      "metadata": {
        "id": "RrV18sxhJikm",
        "colab_type": "code",
        "colab": {}
      },
      "source": [
        "# Download the file to Colab and save it with a filename of your choice\n",
        "# In this example, it's a CSV file\n",
        "filename = 'whatever_you_like.csv'\n",
        "downloaded.GetContentFile(filename)"
      ],
      "execution_count": 0,
      "outputs": []
    },
    {
      "cell_type": "code",
      "metadata": {
        "id": "VDVcW2OSK49g",
        "colab_type": "code",
        "colab": {
          "base_uri": "https://localhost:8080/",
          "height": 111
        },
        "outputId": "2262487c-eb48-452b-f11f-b70f99e31cf9"
      },
      "source": [
        "# Read the file with Python\n",
        "import pandas as pd\n",
        "df = pd.read_csv(filename)\n",
        "df\n"
      ],
      "execution_count": 7,
      "outputs": [
        {
          "output_type": "execute_result",
          "data": {
            "text/html": [
              "<div>\n",
              "<style scoped>\n",
              "    .dataframe tbody tr th:only-of-type {\n",
              "        vertical-align: middle;\n",
              "    }\n",
              "\n",
              "    .dataframe tbody tr th {\n",
              "        vertical-align: top;\n",
              "    }\n",
              "\n",
              "    .dataframe thead th {\n",
              "        text-align: right;\n",
              "    }\n",
              "</style>\n",
              "<table border=\"1\" class=\"dataframe\">\n",
              "  <thead>\n",
              "    <tr style=\"text-align: right;\">\n",
              "      <th></th>\n",
              "      <th>A</th>\n",
              "      <th>B</th>\n",
              "      <th>C</th>\n",
              "    </tr>\n",
              "  </thead>\n",
              "  <tbody>\n",
              "    <tr>\n",
              "      <th>0</th>\n",
              "      <td>1</td>\n",
              "      <td>2</td>\n",
              "      <td>3</td>\n",
              "    </tr>\n",
              "    <tr>\n",
              "      <th>1</th>\n",
              "      <td>4</td>\n",
              "      <td>5</td>\n",
              "      <td>6</td>\n",
              "    </tr>\n",
              "  </tbody>\n",
              "</table>\n",
              "</div>"
            ],
            "text/plain": [
              "   A  B  C\n",
              "0  1  2  3\n",
              "1  4  5  6"
            ]
          },
          "metadata": {
            "tags": []
          },
          "execution_count": 7
        }
      ]
    }
  ]
}